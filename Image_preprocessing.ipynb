{
  "nbformat": 4,
  "nbformat_minor": 0,
  "metadata": {
    "colab": {
      "provenance": [],
      "collapsed_sections": [
        "IGUcWpARg7vr",
        "zdRl1lUETT2X",
        "y8ZCiYB8SzDP",
        "DadMK1bwTJ2W"
      ]
    },
    "kernelspec": {
      "name": "python3",
      "display_name": "Python 3"
    },
    "language_info": {
      "name": "python"
    }
  },
  "cells": [
    {
      "cell_type": "code",
      "source": [
        "from google.colab import drive\n",
        "drive.mount(\"/content/drive\")"
      ],
      "metadata": {
        "colab": {
          "base_uri": "https://localhost:8080/"
        },
        "id": "osIg9WnBkkCd",
        "outputId": "ad938184-ec7a-45c2-a447-817f74e253ca"
      },
      "execution_count": null,
      "outputs": [
        {
          "output_type": "stream",
          "name": "stdout",
          "text": [
            "Mounted at /content/drive\n"
          ]
        }
      ]
    },
    {
      "cell_type": "markdown",
      "source": [
        "Importing pandas and numpy library\n"
      ],
      "metadata": {
        "id": "5yFjBTlGmCo8"
      }
    },
    {
      "cell_type": "code",
      "source": [
        "import pandas as pd \n",
        "import numpy as np "
      ],
      "metadata": {
        "id": "dSjFqA56khk0"
      },
      "execution_count": null,
      "outputs": []
    },
    {
      "cell_type": "code",
      "source": [
        "column_name = ['Image', 'Position']\n",
        "labels = pd.read_csv('/content/drive/MyDrive/Data_set/Intern ship/labels.csv', names=column_name)\n",
        "len(labels)"
      ],
      "metadata": {
        "colab": {
          "base_uri": "https://localhost:8080/"
        },
        "id": "xvk-fumSmK76",
        "outputId": "6c584f9a-abe1-4199-ade6-e94adf884cdd"
      },
      "execution_count": null,
      "outputs": [
        {
          "output_type": "execute_result",
          "data": {
            "text/plain": [
              "1269"
            ]
          },
          "metadata": {},
          "execution_count": 3
        }
      ]
    },
    {
      "cell_type": "code",
      "source": [
        "labels"
      ],
      "metadata": {
        "id": "gkvYQS5-yaxp",
        "colab": {
          "base_uri": "https://localhost:8080/",
          "height": 424
        },
        "outputId": "3035b30f-d5b7-4d6f-97cb-26d670cff283"
      },
      "execution_count": null,
      "outputs": [
        {
          "output_type": "execute_result",
          "data": {
            "text/plain": [
              "                Image  Position\n",
              "0         Image_1.jpg   sitting\n",
              "1         Image_4.jpg  sleeping\n",
              "2         Image_6.jpg  sleeping\n",
              "3        Image_15.jpg  sleeping\n",
              "4        Image_33.jpg   sitting\n",
              "...               ...       ...\n",
              "1264  Image_12527.jpg   running\n",
              "1265  Image_12577.jpg  sleeping\n",
              "1266  Image_12594.jpg  sleeping\n",
              "1267  Image_12596.jpg   sitting\n",
              "1268  Image_12598.jpg   sitting\n",
              "\n",
              "[1269 rows x 2 columns]"
            ],
            "text/html": [
              "\n",
              "  <div id=\"df-397a2ee5-9d74-4507-aa52-9b70b9f7e9b5\">\n",
              "    <div class=\"colab-df-container\">\n",
              "      <div>\n",
              "<style scoped>\n",
              "    .dataframe tbody tr th:only-of-type {\n",
              "        vertical-align: middle;\n",
              "    }\n",
              "\n",
              "    .dataframe tbody tr th {\n",
              "        vertical-align: top;\n",
              "    }\n",
              "\n",
              "    .dataframe thead th {\n",
              "        text-align: right;\n",
              "    }\n",
              "</style>\n",
              "<table border=\"1\" class=\"dataframe\">\n",
              "  <thead>\n",
              "    <tr style=\"text-align: right;\">\n",
              "      <th></th>\n",
              "      <th>Image</th>\n",
              "      <th>Position</th>\n",
              "    </tr>\n",
              "  </thead>\n",
              "  <tbody>\n",
              "    <tr>\n",
              "      <th>0</th>\n",
              "      <td>Image_1.jpg</td>\n",
              "      <td>sitting</td>\n",
              "    </tr>\n",
              "    <tr>\n",
              "      <th>1</th>\n",
              "      <td>Image_4.jpg</td>\n",
              "      <td>sleeping</td>\n",
              "    </tr>\n",
              "    <tr>\n",
              "      <th>2</th>\n",
              "      <td>Image_6.jpg</td>\n",
              "      <td>sleeping</td>\n",
              "    </tr>\n",
              "    <tr>\n",
              "      <th>3</th>\n",
              "      <td>Image_15.jpg</td>\n",
              "      <td>sleeping</td>\n",
              "    </tr>\n",
              "    <tr>\n",
              "      <th>4</th>\n",
              "      <td>Image_33.jpg</td>\n",
              "      <td>sitting</td>\n",
              "    </tr>\n",
              "    <tr>\n",
              "      <th>...</th>\n",
              "      <td>...</td>\n",
              "      <td>...</td>\n",
              "    </tr>\n",
              "    <tr>\n",
              "      <th>1264</th>\n",
              "      <td>Image_12527.jpg</td>\n",
              "      <td>running</td>\n",
              "    </tr>\n",
              "    <tr>\n",
              "      <th>1265</th>\n",
              "      <td>Image_12577.jpg</td>\n",
              "      <td>sleeping</td>\n",
              "    </tr>\n",
              "    <tr>\n",
              "      <th>1266</th>\n",
              "      <td>Image_12594.jpg</td>\n",
              "      <td>sleeping</td>\n",
              "    </tr>\n",
              "    <tr>\n",
              "      <th>1267</th>\n",
              "      <td>Image_12596.jpg</td>\n",
              "      <td>sitting</td>\n",
              "    </tr>\n",
              "    <tr>\n",
              "      <th>1268</th>\n",
              "      <td>Image_12598.jpg</td>\n",
              "      <td>sitting</td>\n",
              "    </tr>\n",
              "  </tbody>\n",
              "</table>\n",
              "<p>1269 rows × 2 columns</p>\n",
              "</div>\n",
              "      <button class=\"colab-df-convert\" onclick=\"convertToInteractive('df-397a2ee5-9d74-4507-aa52-9b70b9f7e9b5')\"\n",
              "              title=\"Convert this dataframe to an interactive table.\"\n",
              "              style=\"display:none;\">\n",
              "        \n",
              "  <svg xmlns=\"http://www.w3.org/2000/svg\" height=\"24px\"viewBox=\"0 0 24 24\"\n",
              "       width=\"24px\">\n",
              "    <path d=\"M0 0h24v24H0V0z\" fill=\"none\"/>\n",
              "    <path d=\"M18.56 5.44l.94 2.06.94-2.06 2.06-.94-2.06-.94-.94-2.06-.94 2.06-2.06.94zm-11 1L8.5 8.5l.94-2.06 2.06-.94-2.06-.94L8.5 2.5l-.94 2.06-2.06.94zm10 10l.94 2.06.94-2.06 2.06-.94-2.06-.94-.94-2.06-.94 2.06-2.06.94z\"/><path d=\"M17.41 7.96l-1.37-1.37c-.4-.4-.92-.59-1.43-.59-.52 0-1.04.2-1.43.59L10.3 9.45l-7.72 7.72c-.78.78-.78 2.05 0 2.83L4 21.41c.39.39.9.59 1.41.59.51 0 1.02-.2 1.41-.59l7.78-7.78 2.81-2.81c.8-.78.8-2.07 0-2.86zM5.41 20L4 18.59l7.72-7.72 1.47 1.35L5.41 20z\"/>\n",
              "  </svg>\n",
              "      </button>\n",
              "      \n",
              "  <style>\n",
              "    .colab-df-container {\n",
              "      display:flex;\n",
              "      flex-wrap:wrap;\n",
              "      gap: 12px;\n",
              "    }\n",
              "\n",
              "    .colab-df-convert {\n",
              "      background-color: #E8F0FE;\n",
              "      border: none;\n",
              "      border-radius: 50%;\n",
              "      cursor: pointer;\n",
              "      display: none;\n",
              "      fill: #1967D2;\n",
              "      height: 32px;\n",
              "      padding: 0 0 0 0;\n",
              "      width: 32px;\n",
              "    }\n",
              "\n",
              "    .colab-df-convert:hover {\n",
              "      background-color: #E2EBFA;\n",
              "      box-shadow: 0px 1px 2px rgba(60, 64, 67, 0.3), 0px 1px 3px 1px rgba(60, 64, 67, 0.15);\n",
              "      fill: #174EA6;\n",
              "    }\n",
              "\n",
              "    [theme=dark] .colab-df-convert {\n",
              "      background-color: #3B4455;\n",
              "      fill: #D2E3FC;\n",
              "    }\n",
              "\n",
              "    [theme=dark] .colab-df-convert:hover {\n",
              "      background-color: #434B5C;\n",
              "      box-shadow: 0px 1px 3px 1px rgba(0, 0, 0, 0.15);\n",
              "      filter: drop-shadow(0px 1px 2px rgba(0, 0, 0, 0.3));\n",
              "      fill: #FFFFFF;\n",
              "    }\n",
              "  </style>\n",
              "\n",
              "      <script>\n",
              "        const buttonEl =\n",
              "          document.querySelector('#df-397a2ee5-9d74-4507-aa52-9b70b9f7e9b5 button.colab-df-convert');\n",
              "        buttonEl.style.display =\n",
              "          google.colab.kernel.accessAllowed ? 'block' : 'none';\n",
              "\n",
              "        async function convertToInteractive(key) {\n",
              "          const element = document.querySelector('#df-397a2ee5-9d74-4507-aa52-9b70b9f7e9b5');\n",
              "          const dataTable =\n",
              "            await google.colab.kernel.invokeFunction('convertToInteractive',\n",
              "                                                     [key], {});\n",
              "          if (!dataTable) return;\n",
              "\n",
              "          const docLinkHtml = 'Like what you see? Visit the ' +\n",
              "            '<a target=\"_blank\" href=https://colab.research.google.com/notebooks/data_table.ipynb>data table notebook</a>'\n",
              "            + ' to learn more about interactive tables.';\n",
              "          element.innerHTML = '';\n",
              "          dataTable['output_type'] = 'display_data';\n",
              "          await google.colab.output.renderOutput(dataTable, element);\n",
              "          const docLink = document.createElement('div');\n",
              "          docLink.innerHTML = docLinkHtml;\n",
              "          element.appendChild(docLink);\n",
              "        }\n",
              "      </script>\n",
              "    </div>\n",
              "  </div>\n",
              "  "
            ]
          },
          "metadata": {},
          "execution_count": 4
        }
      ]
    },
    {
      "cell_type": "code",
      "source": [
        "running = labels[(labels['Position'] == 'running')]\n",
        "sitting = labels[(labels['Position'] == 'sitting')]\n",
        "sleeping = labels[(labels['Position'] == 'sleeping')]\n",
        "\n",
        "print(len(running))\n",
        "print(len(sitting))\n",
        "print(len(sleeping))"
      ],
      "metadata": {
        "colab": {
          "base_uri": "https://localhost:8080/"
        },
        "id": "VZlXunWteU4O",
        "outputId": "996dcd7f-a984-4a1b-ae5e-6f343315f5ca"
      },
      "execution_count": null,
      "outputs": [
        {
          "output_type": "stream",
          "name": "stdout",
          "text": [
            "190\n",
            "379\n",
            "700\n"
          ]
        }
      ]
    },
    {
      "cell_type": "markdown",
      "source": [
        "# Separating images and storing them into three different folder according to pose"
      ],
      "metadata": {
        "id": "iRLXXXqyUMd3"
      }
    },
    {
      "cell_type": "code",
      "source": [
        "from __future__ import print_function\n",
        "import pandas as pd\n",
        "import shutil\n",
        "import os\n",
        "import sys\n",
        "\n",
        "# labels = pd.read_csv(r'D:\\4 th semester\\Projects\\DSP\\train.zip.001\\editedtrainLabels.csv')\n",
        "train_dir =r'/content/drive/MyDrive/Data_set/Intern ship/images'\n",
        "DR = r\"/content/drive/MyDrive/Data_set/Intern ship/DR\"\n",
        "if not os.path.exists(DR):\n",
        "    os.mkdir(DR)\n",
        "\n",
        "for filename, class_name in labels.values:\n",
        "    # Create subdirectory with `class_name`\n",
        "    if not os.path.exists(DR + str(class_name)):\n",
        "        os.mkdir(DR + str(class_name))\n",
        "    src_path = train_dir + '/'+ filename\n",
        "    dst_path = DR + str(class_name) + '/' + filename\n",
        "    try:\n",
        "        shutil.copy(src_path, dst_path)\n",
        "        print(\"sucessful\")\n",
        "    except IOError as e:\n",
        "        print('Unable to copy file {} to {}'\n",
        "              .format(src_path, dst_path))\n",
        "    except:\n",
        "        print('When try copy file {} to {}, unexpected error: {}'\n",
        "              .format(src_path, dst_path, sys.exc_info()))"
      ],
      "metadata": {
        "id": "DBG3QL5Xm2qt"
      },
      "execution_count": null,
      "outputs": []
    },
    {
      "cell_type": "markdown",
      "source": [
        "# Reading images from directory and converting to array "
      ],
      "metadata": {
        "id": "BUZqkQbGT2ZS"
      }
    },
    {
      "cell_type": "code",
      "source": [
        "import matplotlib.pyplot as plt\n",
        "import numpy as np\n",
        "import cv2\n",
        "import os\n",
        "import PIL\n",
        "import tensorflow as tf\n",
        "\n",
        "from tensorflow import keras\n",
        "from tensorflow.keras import layers\n",
        "from tensorflow.keras.models import Sequential"
      ],
      "metadata": {
        "id": "eVnNiQldsDY6"
      },
      "execution_count": null,
      "outputs": []
    },
    {
      "cell_type": "code",
      "source": [
        "data_dir = ('/content/drive/MyDrive/Data_set/Intern ship/DR')"
      ],
      "metadata": {
        "id": "ZiTQaOzUuOCW"
      },
      "execution_count": null,
      "outputs": []
    },
    {
      "cell_type": "code",
      "source": [
        "data_dir"
      ],
      "metadata": {
        "colab": {
          "base_uri": "https://localhost:8080/",
          "height": 35
        },
        "id": "V47h7ep8uOHX",
        "outputId": "52cdc570-e8c2-41b7-cf9a-02826becd6e9"
      },
      "execution_count": null,
      "outputs": [
        {
          "output_type": "execute_result",
          "data": {
            "text/plain": [
              "'/content/drive/MyDrive/Data_set/Intern ship/DR'"
            ],
            "application/vnd.google.colaboratory.intrinsic+json": {
              "type": "string"
            }
          },
          "metadata": {},
          "execution_count": 8
        }
      ]
    },
    {
      "cell_type": "code",
      "source": [
        "import pathlib\n",
        "data_dir = pathlib.Path(data_dir)\n",
        "data_dir"
      ],
      "metadata": {
        "colab": {
          "base_uri": "https://localhost:8080/"
        },
        "id": "f--MDweVuOKA",
        "outputId": "dada0c86-a1c2-495b-b6e6-bb9ef0c311a7"
      },
      "execution_count": null,
      "outputs": [
        {
          "output_type": "execute_result",
          "data": {
            "text/plain": [
              "PosixPath('/content/drive/MyDrive/Data_set/Intern ship/DR')"
            ]
          },
          "metadata": {},
          "execution_count": 9
        }
      ]
    },
    {
      "cell_type": "code",
      "source": [
        "list(data_dir.glob('*/*.jpg'))[:5]"
      ],
      "metadata": {
        "colab": {
          "base_uri": "https://localhost:8080/"
        },
        "id": "iGq6Row8vkcd",
        "outputId": "b08c7bf1-d2e6-4339-b4f5-4143b44d82f2"
      },
      "execution_count": null,
      "outputs": [
        {
          "output_type": "execute_result",
          "data": {
            "text/plain": [
              "[PosixPath('/content/drive/MyDrive/Data_set/Intern ship/DR/DRsitting/Image_1.jpg'),\n",
              " PosixPath('/content/drive/MyDrive/Data_set/Intern ship/DR/DRsitting/Image_33.jpg'),\n",
              " PosixPath('/content/drive/MyDrive/Data_set/Intern ship/DR/DRsitting/Image_62.jpg'),\n",
              " PosixPath('/content/drive/MyDrive/Data_set/Intern ship/DR/DRsitting/Image_195.jpg'),\n",
              " PosixPath('/content/drive/MyDrive/Data_set/Intern ship/DR/DRsitting/Image_201.jpg')]"
            ]
          },
          "metadata": {},
          "execution_count": 10
        }
      ]
    },
    {
      "cell_type": "code",
      "source": [
        "image_count = len(list(data_dir.glob('*/*.jpg')))\n",
        "print(image_count)"
      ],
      "metadata": {
        "colab": {
          "base_uri": "https://localhost:8080/"
        },
        "id": "J8qIficAvvwI",
        "outputId": "4bb6c909-d089-4eb5-a017-86d40ec93144"
      },
      "execution_count": null,
      "outputs": [
        {
          "output_type": "stream",
          "name": "stdout",
          "text": [
            "1269\n"
          ]
        }
      ]
    },
    {
      "cell_type": "code",
      "source": [
        "DRsitting = list(data_dir.glob('DRsitting/*'))\n",
        "DRsitting[:5]"
      ],
      "metadata": {
        "colab": {
          "base_uri": "https://localhost:8080/"
        },
        "id": "w6Y_ndIqwGx6",
        "outputId": "71417577-a3da-41b0-8306-4328ec6f04aa"
      },
      "execution_count": null,
      "outputs": [
        {
          "output_type": "execute_result",
          "data": {
            "text/plain": [
              "[PosixPath('/content/drive/MyDrive/Data_set/Intern ship/DR/DRsitting/Image_1.jpg'),\n",
              " PosixPath('/content/drive/MyDrive/Data_set/Intern ship/DR/DRsitting/Image_33.jpg'),\n",
              " PosixPath('/content/drive/MyDrive/Data_set/Intern ship/DR/DRsitting/Image_62.jpg'),\n",
              " PosixPath('/content/drive/MyDrive/Data_set/Intern ship/DR/DRsitting/Image_195.jpg'),\n",
              " PosixPath('/content/drive/MyDrive/Data_set/Intern ship/DR/DRsitting/Image_201.jpg')]"
            ]
          },
          "metadata": {},
          "execution_count": 12
        }
      ]
    },
    {
      "cell_type": "code",
      "source": [
        "PIL.Image.open(str(DRsitting[1]))"
      ],
      "metadata": {
        "colab": {
          "base_uri": "https://localhost:8080/",
          "height": 206
        },
        "id": "kuWbFhlcwG0j",
        "outputId": "b840b938-b894-4110-d175-2be4d380ffae"
      },
      "execution_count": null,
      "outputs": [
        {
          "output_type": "execute_result",
          "data": {
            "text/plain": [
              "<PIL.JpegImagePlugin.JpegImageFile image mode=RGB size=266x189 at 0x7FD0A72C3E50>"
            ],
            "image/png": "[encoded data removed]"
          },
          "metadata": {},
          "execution_count": 13
        }
      ]
    },
    {
      "cell_type": "code",
      "source": [
        "position_images_dict = {\n",
        "    'DRrunning': list(data_dir.glob('DRrunning/*')),\n",
        "    'DRsitting': list(data_dir.glob('DRsitting/*')),\n",
        "    'Dsleeping': list(data_dir.glob('Dsleeping/*')),\n",
        "}"
      ],
      "metadata": {
        "id": "iR0USBApwG3C"
      },
      "execution_count": null,
      "outputs": []
    },
    {
      "cell_type": "code",
      "source": [
        "position_labels_dict = {\n",
        "    'DRrunning': 0,\n",
        "    'DRsitting': 1,\n",
        "    'Dsleeping': 2,\n",
        "}"
      ],
      "metadata": {
        "id": "Dzno6edXwHEi"
      },
      "execution_count": null,
      "outputs": []
    },
    {
      "cell_type": "code",
      "source": [
        "position_images_dict['DRrunning'][:5]"
      ],
      "metadata": {
        "colab": {
          "base_uri": "https://localhost:8080/"
        },
        "id": "MQw63smIwHGx",
        "outputId": "3c19702e-7557-43c9-d4a7-43cf83614230"
      },
      "execution_count": null,
      "outputs": [
        {
          "output_type": "execute_result",
          "data": {
            "text/plain": [
              "[PosixPath('/content/drive/MyDrive/Data_set/Intern ship/DR/DRrunning/Image_37.jpg'),\n",
              " PosixPath('/content/drive/MyDrive/Data_set/Intern ship/DR/DRrunning/Image_75.jpg'),\n",
              " PosixPath('/content/drive/MyDrive/Data_set/Intern ship/DR/DRrunning/Image_183.jpg'),\n",
              " PosixPath('/content/drive/MyDrive/Data_set/Intern ship/DR/DRrunning/Image_218.jpg'),\n",
              " PosixPath('/content/drive/MyDrive/Data_set/Intern ship/DR/DRrunning/Image_228.jpg')]"
            ]
          },
          "metadata": {},
          "execution_count": 16
        }
      ]
    },
    {
      "cell_type": "code",
      "source": [
        "img = cv2.imread(str(position_images_dict['DRrunning'][0]))"
      ],
      "metadata": {
        "id": "e9QkJgUhxWeE"
      },
      "execution_count": null,
      "outputs": []
    },
    {
      "cell_type": "code",
      "source": [
        "img.shape"
      ],
      "metadata": {
        "colab": {
          "base_uri": "https://localhost:8080/"
        },
        "id": "EhTgZWlOxWgi",
        "outputId": "e1e77662-cd5c-4a2c-a9b1-9861d9134e43"
      },
      "execution_count": null,
      "outputs": [
        {
          "output_type": "execute_result",
          "data": {
            "text/plain": [
              "(280, 180, 3)"
            ]
          },
          "metadata": {},
          "execution_count": 18
        }
      ]
    },
    {
      "cell_type": "code",
      "source": [
        "cv2.resize(img,(180,180)).shape"
      ],
      "metadata": {
        "id": "lQo6kuUzyMNK",
        "colab": {
          "base_uri": "https://localhost:8080/"
        },
        "outputId": "f3a86355-be4e-43a2-d740-091fe1e193eb"
      },
      "execution_count": null,
      "outputs": [
        {
          "output_type": "execute_result",
          "data": {
            "text/plain": [
              "(180, 180, 3)"
            ]
          },
          "metadata": {},
          "execution_count": 19
        }
      ]
    },
    {
      "cell_type": "code",
      "source": [
        "X, y = [], []\n",
        "\n",
        "for position_name, images in position_images_dict.items():\n",
        "    for image in images:\n",
        "        img = cv2.imread(str(image))\n",
        "        resized_img = cv2.resize(img,(180,180))\n",
        "        resized_img = resized_img.reshape((1,) + resized_img.shape)\n",
        "        X.append(resized_img)\n",
        "        y.append(position_labels_dict[position_name])"
      ],
      "metadata": {
        "id": "I6ADvzZCxWjE"
      },
      "execution_count": null,
      "outputs": []
    },
    {
      "cell_type": "code",
      "source": [
        "X = np.array(X)\n",
        "y = np.array(y)"
      ],
      "metadata": {
        "id": "RK0gaLxexWlf"
      },
      "execution_count": null,
      "outputs": []
    },
    {
      "cell_type": "code",
      "source": [
        "X[0].shape"
      ],
      "metadata": {
        "id": "miyGYX7uxWn7",
        "colab": {
          "base_uri": "https://localhost:8080/"
        },
        "outputId": "16405722-0438-44e0-b35a-6f6288d95461"
      },
      "execution_count": null,
      "outputs": [
        {
          "output_type": "execute_result",
          "data": {
            "text/plain": [
              "(1, 180, 180, 3)"
            ]
          },
          "metadata": {},
          "execution_count": 22
        }
      ]
    },
    {
      "cell_type": "code",
      "source": [
        "print(X.shape)"
      ],
      "metadata": {
        "id": "RDVtMhmVxWqi",
        "colab": {
          "base_uri": "https://localhost:8080/"
        },
        "outputId": "ad1ab63a-d9aa-4b11-d060-966dc09bb907"
      },
      "execution_count": null,
      "outputs": [
        {
          "output_type": "stream",
          "name": "stdout",
          "text": [
            "(569, 1, 180, 180, 3)\n"
          ]
        }
      ]
    },
    {
      "cell_type": "markdown",
      "source": [
        "# Storing the Augumented images just for balancing dataset."
      ],
      "metadata": {
        "id": "IGUcWpARg7vr"
      }
    },
    {
      "cell_type": "code",
      "source": [
        "from keras.preprocessing.image import ImageDataGenerator\n",
        "from tensorflow.keras.utils import array_to_img, img_to_array, load_img\n",
        "datagen = ImageDataGenerator(\n",
        "        rotation_range=40,\n",
        "        width_shift_range=0.2,\n",
        "        height_shift_range=0.2,\n",
        "        shear_range=0.2,\n",
        "        zoom_range=0.2,\n",
        "        horizontal_flip=True,\n",
        "        fill_mode='nearest')\n",
        "\n",
        "# img = load_img('/content/drive/MyDrive/Data_set/Intern ship/DRrunning')  \n",
        "# x = img_to_array(img)  \n",
        "# x = x.reshape((1,) + x.shape)  \n",
        "# print(x.shape)\n",
        "# the .flow() command below generates batches of randomly transformed images\n",
        "# and saves the results to the `preview/` directory\n",
        "j = 190\n",
        "k = 0\n",
        "while j<715:\n",
        "  k+=1\n",
        "  i = 0\n",
        "  for batch in datagen.flow(X[k], batch_size=1,\n",
        "                          save_to_dir='/content/drive/MyDrive/Data_set/Intern ship/test', save_prefix='running', save_format='jpg'):\n",
        "    i += 1\n",
        "    if i > 2:\n",
        "        break  # otherwise the generator would loop indefinitely\n",
        "  j+=3\n",
        "print(k)"
      ],
      "metadata": {
        "colab": {
          "base_uri": "https://localhost:8080/"
        },
        "id": "jDLa50GYgryi",
        "outputId": "ba119c15-36a3-4566-cc9d-76eef10feb41"
      },
      "execution_count": null,
      "outputs": [
        {
          "output_type": "stream",
          "name": "stdout",
          "text": [
            "175\n"
          ]
        }
      ]
    },
    {
      "cell_type": "code",
      "source": [
        "data_dir = ('/content/drive/MyDrive/Data_set/Intern ship')\n",
        "data_dir = pathlib.Path(data_dir)\n",
        "image_count = len(list(data_dir.glob('running/*')))\n",
        "print(image_count)"
      ],
      "metadata": {
        "id": "FOJioo3_hCf6",
        "colab": {
          "base_uri": "https://localhost:8080/"
        },
        "outputId": "b7646fed-d834-46a0-e00b-d33d9b82055a"
      },
      "execution_count": null,
      "outputs": [
        {
          "output_type": "stream",
          "name": "stdout",
          "text": [
            "511\n"
          ]
        }
      ]
    },
    {
      "cell_type": "code",
      "source": [
        "from keras.preprocessing.image import ImageDataGenerator\n",
        "from tensorflow.keras.utils import array_to_img, img_to_array, load_img\n",
        "datagen = ImageDataGenerator(\n",
        "        rotation_range=40,\n",
        "        width_shift_range=0.2,\n",
        "        height_shift_range=0.2,\n",
        "        shear_range=0.2,\n",
        "        zoom_range=0.2,\n",
        "        horizontal_flip=True,\n",
        "        fill_mode='nearest')\n",
        "\n",
        "# img = load_img('/content/drive/MyDrive/Data_set/Intern ship/DRrunning')  \n",
        "# x = img_to_array(img)  \n",
        "# x = x.reshape((1,) + x.shape)  \n",
        "# print(x.shape)\n",
        "# the .flow() command below generates batches of randomly transformed images\n",
        "# and saves the results to the `preview/` directory\n",
        "j = 379\n",
        "k = 191\n",
        "while j<709:\n",
        "  k+=1\n",
        "  i = 0\n",
        "  for batch in datagen.flow(X[k], batch_size=1,\n",
        "                          save_to_dir='/content/drive/MyDrive/Data_set/Intern ship/sitting', save_prefix='sitting', save_format='jpg'):\n",
        "    i += 1\n",
        "    if i > 0:\n",
        "        break  # otherwise the generator would loop indefinitely\n",
        "  j+=1\n",
        "print(k)"
      ],
      "metadata": {
        "colab": {
          "base_uri": "https://localhost:8080/"
        },
        "id": "EBbEymYcZ8St",
        "outputId": "284f9024-1fa1-4191-bc25-a3379e5caac8"
      },
      "execution_count": null,
      "outputs": [
        {
          "output_type": "stream",
          "name": "stdout",
          "text": [
            "521\n"
          ]
        }
      ]
    },
    {
      "cell_type": "code",
      "source": [
        "data_dir = ('/content/drive/MyDrive/Data_set/Intern ship')\n",
        "data_dir = pathlib.Path(data_dir)\n",
        "image_count = len(list(data_dir.glob('running/*')))\n",
        "print(image_count)"
      ],
      "metadata": {
        "id": "HvG5mhbThBAU",
        "colab": {
          "base_uri": "https://localhost:8080/"
        },
        "outputId": "fe13a0cd-9c87-4c33-fdeb-536bd58eeb0c"
      },
      "execution_count": null,
      "outputs": [
        {
          "output_type": "stream",
          "name": "stdout",
          "text": [
            "701\n"
          ]
        }
      ]
    },
    {
      "cell_type": "code",
      "source": [
        "data_dir = ('/content/drive/MyDrive/Data_set/Intern ship')\n",
        "data_dir = pathlib.Path(data_dir)\n",
        "image_count = len(list(data_dir.glob('sitting/*')))\n",
        "print(image_count)"
      ],
      "metadata": {
        "colab": {
          "base_uri": "https://localhost:8080/"
        },
        "id": "kw-8icrHBY0i",
        "outputId": "88674760-898a-41fc-9917-f6c2977aa299"
      },
      "execution_count": null,
      "outputs": [
        {
          "output_type": "stream",
          "name": "stdout",
          "text": [
            "704\n"
          ]
        }
      ]
    },
    {
      "cell_type": "code",
      "source": [
        "data_dir = ('/content/drive/MyDrive/Data_set/Intern ship')\n",
        "data_dir = pathlib.Path(data_dir)\n",
        "image_count = len(list(data_dir.glob('sleeping/*')))\n",
        "print(image_count)"
      ],
      "metadata": {
        "colab": {
          "base_uri": "https://localhost:8080/"
        },
        "id": "2iwrW6jIBZSm",
        "outputId": "702952f3-63a0-421e-efc5-d9a5c52ffcae"
      },
      "execution_count": null,
      "outputs": [
        {
          "output_type": "stream",
          "name": "stdout",
          "text": [
            "700\n"
          ]
        }
      ]
    },
    {
      "cell_type": "markdown",
      "source": [
        "# Keypoints Generator"
      ],
      "metadata": {
        "id": "zdRl1lUETT2X"
      }
    },
    {
      "cell_type": "code",
      "source": [
        "!git clone https://github.com/misbah4064/human-pose-estimation-opencv.git\n",
        "%cd human-pose-estimation-opencv/"
      ],
      "metadata": {
        "colab": {
          "base_uri": "https://localhost:8080/"
        },
        "id": "CcYkapLbCbQc",
        "outputId": "2a64f386-83f5-4dd0-8021-519c95c53863"
      },
      "execution_count": null,
      "outputs": [
        {
          "output_type": "stream",
          "name": "stdout",
          "text": [
            "Cloning into 'human-pose-estimation-opencv'...\n",
            "remote: Enumerating objects: 20, done.\u001b[K\n",
            "remote: Counting objects: 100% (20/20), done.\u001b[K\n",
            "remote: Compressing objects: 100% (15/15), done.\u001b[K\n",
            "remote: Total 20 (delta 5), reused 17 (delta 5), pack-reused 0\u001b[K\n",
            "Unpacking objects: 100% (20/20), done.\n",
            "/content/human-pose-estimation-opencv\n"
          ]
        }
      ]
    },
    {
      "cell_type": "code",
      "source": [
        "import cv2 as cv\n",
        "import numpy as np\n",
        "from google.colab.patches import cv2_imshow\n",
        "\n",
        "BODY_PARTS = { \"Nose\": 0, \"Neck\": 1, \"RShoulder\": 2, \"RElbow\": 3, \"RWrist\": 4,\n",
        "               \"LShoulder\": 5, \"LElbow\": 6, \"LWrist\": 7, \"RHip\": 8, \"RKnee\": 9,\n",
        "               \"RAnkle\": 10, \"LHip\": 11, \"LKnee\": 12, \"LAnkle\": 13, \"REye\": 14,\n",
        "               \"LEye\": 15, \"REar\": 16, \"LEar\": 17, \"Background\": 18 }\n",
        "\n",
        "POSE_PAIRS = [ [\"Neck\", \"RShoulder\"], [\"Neck\", \"LShoulder\"], [\"RShoulder\", \"RElbow\"],\n",
        "               [\"RElbow\", \"RWrist\"], [\"LShoulder\", \"LElbow\"], [\"LElbow\", \"LWrist\"],\n",
        "               [\"Neck\", \"RHip\"], [\"RHip\", \"RKnee\"], [\"RKnee\", \"RAnkle\"], [\"Neck\", \"LHip\"],\n",
        "               [\"LHip\", \"LKnee\"], [\"LKnee\", \"LAnkle\"], [\"Neck\", \"Nose\"], [\"Nose\", \"REye\"],\n",
        "               [\"REye\", \"REar\"], [\"Nose\", \"LEye\"], [\"LEye\", \"LEar\"] ]\n",
        "\n",
        "width = 368\n",
        "height = 368\n",
        "inWidth = width\n",
        "inHeight = height\n",
        "\n",
        "net = cv.dnn.readNetFromTensorflow(\"graph_opt.pb\")\n",
        "thr = 0.2\n",
        "\n",
        "def poseDetector(frame):\n",
        "    frameWidth = frame.shape[1]\n",
        "    frameHeight = frame.shape[0]\n",
        "    \n",
        "    net.setInput(cv.dnn.blobFromImage(frame, 1.0, (inWidth, inHeight), (127.5, 127.5, 127.5), swapRB=True, crop=False))\n",
        "    out = net.forward()\n",
        "    out = out[:, :19, :, :]  # MobileNet output [1, 57, -1, -1], we only need the first 19 elements\n",
        "\n",
        "    assert(len(BODY_PARTS) == out.shape[1])\n",
        "\n",
        "    points = []\n",
        "    for i in range(len(BODY_PARTS)):\n",
        "        # Slice heatmap of corresponging body's part.\n",
        "        heatMap = out[0, i, :, :]\n",
        "\n",
        "        _, conf, _, point = cv.minMaxLoc(heatMap)\n",
        "        x = (frameWidth * point[0]) / out.shape[3]\n",
        "        y = (frameHeight * point[1]) / out.shape[2]\n",
        "        points.append((int(x), int(y)) if conf > thr else None)\n",
        "\n",
        "    for pair in POSE_PAIRS:\n",
        "        partFrom = pair[0]\n",
        "        partTo = pair[1]\n",
        "        assert(partFrom in BODY_PARTS)\n",
        "        assert(partTo in BODY_PARTS)\n",
        "\n",
        "        idFrom = BODY_PARTS[partFrom]\n",
        "        idTo = BODY_PARTS[partTo]\n",
        "\n",
        "        if points[idFrom] and points[idTo]:\n",
        "            cv.line(frame, points[idFrom], points[idTo], (0, 255, 0), 3)\n",
        "            cv.ellipse(frame, points[idFrom], (3, 3), 0, 0, 360, (0, 0, 255), cv.FILLED)\n",
        "            cv.ellipse(frame, points[idTo], (3, 3), 0, 0, 360, (0, 0, 255), cv.FILLED)\n",
        "\n",
        "    t, _ = net.getPerfProfile()\n",
        "    # print(points)\n",
        "    return points"
      ],
      "metadata": {
        "id": "P4OLAbhfChgn"
      },
      "execution_count": null,
      "outputs": []
    },
    {
      "cell_type": "markdown",
      "source": [
        "# Generating csv file for unbalanced_keypoints"
      ],
      "metadata": {
        "id": "y8ZCiYB8SzDP"
      }
    },
    {
      "cell_type": "code",
      "source": [
        "import csv\n",
        "import glob\n",
        "path = \"/content/drive/MyDrive/Data_set/Intern ship/DRrunning/*.*\"\n",
        "DRrunning=glob.glob(path)\n",
        "path = \"/content/drive/MyDrive/Data_set/Intern ship/DRsitting/*.*\"\n",
        "DRsitting=glob.glob(path)\n",
        "path = \"/content/drive/MyDrive/Data_set/Intern ship/DRsleeping/*.*\"\n",
        "DRsleeping=glob.glob(path)\n",
        "with open('unbalanced_keypoints.csv', 'w', newline='') as file:\n",
        "    writer = csv.writer(file)\n",
        "    writer.writerow([\"FileName\", \"Keypoint\", \"Pose\"])\n",
        "    for element in DRrunning:\n",
        "        writer.writerow([ntpath.basename(element), poseDetector(cv.imread(element)), \"running\"])\n",
        "    for element in DRsitting:\n",
        "        writer.writerow([ntpath.basename(element), poseDetector(cv.imread(element)), \"sitting\"])\n",
        "    for element in DRsleeping:\n",
        "        writer.writerow([ntpath.basename(element), poseDetector(cv.imread(element)), \"sleeping\"])"
      ],
      "metadata": {
        "id": "Gnz7Q2CN72UN"
      },
      "execution_count": null,
      "outputs": []
    },
    {
      "cell_type": "markdown",
      "source": [
        "# Generating csv file for Balanced_keypoints"
      ],
      "metadata": {
        "id": "DadMK1bwTJ2W"
      }
    },
    {
      "cell_type": "code",
      "source": [
        "import csv\n",
        "import glob\n",
        "path = \"/content/drive/MyDrive/Data_set/Intern ship/running/*.*\"\n",
        "running=glob.glob(path)\n",
        "path = \"/content/drive/MyDrive/Data_set/Intern ship/sitting/*.*\"\n",
        "sitting=glob.glob(path)\n",
        "path = \"/content/drive/MyDrive/Data_set/Intern ship/sleeping/*.*\"\n",
        "sleeping=glob.glob(path)\n",
        "with open('Balanced_keypoints.csv', 'w', newline='') as file:\n",
        "    writer = csv.writer(file)\n",
        "    writer.writerow([\"FileName\", \"Keypoint\", \"Pose\"])\n",
        "    for element in running:\n",
        "        writer.writerow([ntpath.basename(element), poseDetector(cv.imread(element)), \"running\"])\n",
        "    for element in sitting:\n",
        "        writer.writerow([ntpath.basename(element), poseDetector(cv.imread(element)), \"sitting\"])\n",
        "    for element in sleeping:\n",
        "        writer.writerow([ntpath.basename(element), poseDetector(cv.imread(element)), \"sleeping\"])"
      ],
      "metadata": {
        "id": "Z_8-Tl6cAVka"
      },
      "execution_count": null,
      "outputs": []
    }
  ]
}